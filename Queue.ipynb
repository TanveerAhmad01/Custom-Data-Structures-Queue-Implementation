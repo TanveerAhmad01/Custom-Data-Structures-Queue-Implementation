{
 "cells": [
  {
   "cell_type": "code",
   "execution_count": 86,
   "metadata": {},
   "outputs": [
    {
     "name": "stdout",
     "output_type": "stream",
     "text": [
      "Queue is Empty\n",
      "[12, 213, 321]\n",
      "After remove 12: now updated stack is [213, 321]\n",
      "Peek Value is :  321\n",
      "Queue is not Empty\n"
     ]
    }
   ],
   "source": [
    "class Queue:\n",
    "    def __init__(self):\n",
    "        self.front = -1\n",
    "        self.back = -1\n",
    "        self.queue = []\n",
    "            \n",
    "    def enqueue(self):\n",
    "        limit = int(input(\"enter limit of data\")) \n",
    "        for i in range(limit): \n",
    "            inp = int(input(\"enter nubr\"))\n",
    "            self.back +=1\n",
    "            if self.back < len(self.queue):\n",
    "                self.queue[self.back] = inp \n",
    "\n",
    "            else:\n",
    "                newQueue = [0] *(self.back +1)\n",
    "                for j in range(len(self.queue)):\n",
    "                    newQueue[j] = self.queue[j]\n",
    "                newQueue[self.back] = inp\n",
    "            self.queue = newQueue\n",
    "        print(self.queue)\n",
    "        \n",
    "    def dequeue(self):\n",
    "            emptystack = [0] * self.back # create empty queue\n",
    "            removeitem = self.queue[0]\n",
    "            for i in range(self.back):\n",
    "                emptystack[i] = self.queue[i + 1]   # copy queue and also shift item self.queue[i + 1] \n",
    "            self.back -= 1     #Decrement value of back\n",
    "            self.queue=emptystack    #now copy data into orignal queue\n",
    "            print(f\"After remove {removeitem}: now updated stack is {self.queue}\")\n",
    "\n",
    "    def peek(self):\n",
    "        print(\"Peek Value is : \",self.queue[self.back])\n",
    "\n",
    "    def is_empty(self):\n",
    "        if self.back == self.front:\n",
    "            print(\"Queue is Empty\")\n",
    "        else:\n",
    "              print(\"Queue is not Empty\")\n",
    "\n",
    "\n",
    "obj = Queue()\n",
    "obj.is_empty()\n",
    "obj.enqueue()\n",
    "obj.dequeue()\n",
    "obj.peek()\n",
    "obj.is_empty()"
   ]
  },
  {
   "cell_type": "code",
   "execution_count": null,
   "metadata": {},
   "outputs": [],
   "source": []
  }
 ],
 "metadata": {
  "kernelspec": {
   "display_name": "Python 3",
   "language": "python",
   "name": "python3"
  },
  "language_info": {
   "codemirror_mode": {
    "name": "ipython",
    "version": 3
   },
   "file_extension": ".py",
   "mimetype": "text/x-python",
   "name": "python",
   "nbconvert_exporter": "python",
   "pygments_lexer": "ipython3",
   "version": "3.12.3"
  }
 },
 "nbformat": 4,
 "nbformat_minor": 2
}
